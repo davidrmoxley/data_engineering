{
 "cells": [
  {
   "cell_type": "code",
   "execution_count": 194,
   "metadata": {},
   "outputs": [],
   "source": [
    "import requests\n",
    "import re\n",
    "import pandas as pd\n",
    "import sys\n",
    "import numpy as np\n"
   ]
  },
  {
   "cell_type": "code",
   "execution_count": 2,
   "metadata": {},
   "outputs": [],
   "source": [
    "# Get data\n",
    "'''\n",
    "Input of csv with a street address, city, and state column\n",
    "'''\n",
    "df_addresses = pd.read_csv(r\"Addresses.csv\")\n"
   ]
  },
  {
   "cell_type": "code",
   "execution_count": 198,
   "metadata": {},
   "outputs": [],
   "source": [
    "## Set API Key\n",
    "api_key = "
   ]
  },
  {
   "cell_type": "code",
   "execution_count": 199,
   "metadata": {},
   "outputs": [],
   "source": [
    "def udf_remove_address_unit(address):\n",
    "    \n",
    "    '''\n",
    "    Pre-process address by capturing address line 2 references\n",
    "    Input: address as a string\n",
    "    Output: processed address\n",
    "    \n",
    "    Remove any housing unit references from the address and ensure the last character of the address is a letter\n",
    "    '''\n",
    "    \n",
    "    # Remove Unit Name\n",
    "    address = str(address)\n",
    "    address_processed = address.upper()\n",
    "    address_processed = address_processed.partition(\"APT\")[0]\n",
    "    address_processed = address_processed.partition(\"UNIT\")[0]\n",
    "    address_processed = address_processed.partition(\"SUITE\")[0]\n",
    "    address_processed = address_processed.partition(\"STE\")[0]\n",
    "    \n",
    "    # remove all non-alphanumeric characters at the end of the address\n",
    "    address_processed = re.sub(f'[^1-9a-zA-Z]+$','',address_processed)\n",
    "    \n",
    "    return address_processed"
   ]
  },
  {
   "cell_type": "code",
   "execution_count": 201,
   "metadata": {},
   "outputs": [],
   "source": [
    "def udf_get_google_geocoded_address (address, api_key):\n",
    "\n",
    "    geocode_url = \"https://maps.googleapis.com/maps/api/geocode/json?address={}\".format(address)\n",
    "    geocode_url = geocode_url + \"&key={}\".format(api_key)\n",
    "\n",
    "    results = requests.get(geocode_url)\n",
    "    results = results.json()\n",
    "    results = results['results']\n",
    "    \n",
    "    if len(results) == 0:\n",
    "    \n",
    "        output = {\n",
    "            \"Address_Geocoded\" : None,\n",
    "            \"City_Geocoded\" : None,\n",
    "            \"County_Geocoded\" : None,\n",
    "            \"State_Geocoded\" : None,\n",
    "            \"ZipCode_Geocoded\" : None,\n",
    "            \"Latitude\" : None,\n",
    "            \"Longitude\" : None\n",
    "        }\n",
    "        \n",
    "    else:\n",
    "\n",
    "        results = results[0]\n",
    "        output = {\n",
    "            \"Address_Geocoded\" : results.get('address_components')[0].get('long_name') + ' ' + results.get('address_components')[1].get('long_name'),\n",
    "            \"City_Geocoded\" : results.get('address_components')[2].get('long_name'),\n",
    "            \"County_Geocoded\" : results.get('address_components')[4].get('long_name'),\n",
    "            \"State_Geocoded\" : results.get('address_components')[5].get('short_name'),\n",
    "            \"ZipCode_Geocoded\" : results.get('address_components')[7].get('long_name'),\n",
    "            \"Latitude\" : results.get('geometry').get('location')['lat'],\n",
    "            \"Longitude\" : results.get('geometry').get('location')['lng']\n",
    "        }\n",
    "\n",
    "    output['Address_Full_PreProcessed'] = address\n",
    "    \n",
    "    return output\n"
   ]
  },
  {
   "cell_type": "code",
   "execution_count": 216,
   "metadata": {},
   "outputs": [],
   "source": [
    "def udf_geocode_addresses(df, address, api_key):\n",
    "    \n",
    "    '''\n",
    "    Given a dataframe, df, of addresses, address, \n",
    "    '''\n",
    "    df_geocoded_addresses = pd.DataFrame()\n",
    "    \n",
    "    df[(address+'_PreProcessed')] = df[address].apply(udf_remove_address_unit)\n",
    "\n",
    "    df[(address+'_Full_PreProcessed')] = df[(address+'_PreProcessed')] + ' ' + df['City'] + ' ' + df['State'] + ' ' + df['Zipcode']\n",
    "    \n",
    "    for index, row in df.iterrows():\n",
    "            \n",
    "        df_geocoded_addresses = df_geocoded_addresses.append(udf_get_google_geocoded_address(row[(address+'_Full_PreProcessed')],api_key),ignore_index=True)\n",
    "   \n",
    "    return df_geocoded_addresses"
   ]
  },
  {
   "cell_type": "code",
   "execution_count": null,
   "metadata": {},
   "outputs": [],
   "source": []
  }
 ],
 "metadata": {
  "kernelspec": {
   "display_name": "Python 3",
   "language": "python",
   "name": "python3"
  }
 },
 "nbformat": 4,
 "nbformat_minor": 2
}
