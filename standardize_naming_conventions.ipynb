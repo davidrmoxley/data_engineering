{
 "cells": [
  {
   "cell_type": "code",
   "execution_count": null,
   "metadata": {},
   "outputs": [],
   "source": [
    "def udf_standardize_naming_conventions(df):\n",
    "    \"\"\"\n",
    "    standardize column names from Camel Case to snake case\n",
    "\n",
    "    Takes a source dataframe\n",
    "    Returns dataframe with columns written as snake_case\n",
    "    \n",
    "    Credit for succinct regex solution: https://stackoverflow.com/questions/1175208/elegant-python-function-to-convert-camelcase-to-snake-case\n",
    "    \"\"\"\n",
    "    new_column_names={}\n",
    "    for col in df.columns:\n",
    "        new_column_names.update({col:re.sub('(?!^)([A-Z]+)', r'_\\1',col).lower()}) #(?!^) look back found on stackedoverflow as solution for leading underscore\n",
    "    \n",
    "    df = df.rename(columns=new_column_names)\n",
    "\n",
    "    return df"
   ]
  }
 ],
 "metadata": {
  "kernelspec": {
   "display_name": "Python 3",
   "language": "python",
   "name": "python3"
  },
  "language_info": {
   "codemirror_mode": {
    "name": "ipython",
    "version": 3
   },
   "file_extension": ".py",
   "mimetype": "text/x-python",
   "name": "python",
   "nbconvert_exporter": "python",
   "pygments_lexer": "ipython3",
   "version": "3.7.3"
  }
 },
 "nbformat": 4,
 "nbformat_minor": 2
}
